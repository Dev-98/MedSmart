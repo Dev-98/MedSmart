{
 "cells": [
  {
   "cell_type": "code",
   "execution_count": 7,
   "metadata": {},
   "outputs": [],
   "source": [
    "# !pip install lightrag\n",
    "import os\n",
    "\n",
    "os.environ[\"GROQ_API_KEY\"] = \"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\""
   ]
  },
  {
   "cell_type": "code",
   "execution_count": 15,
   "metadata": {},
   "outputs": [],
   "source": [
    "\n",
    "from dataclasses import dataclass, field\n",
    "\n",
    "from lightrag.core import Component, Generator, DataClass\n",
    "from lightrag.components.model_client import GroqAPIClient\n",
    "from lightrag.components.output_parsers import JsonOutputParser\n",
    "\n",
    "@dataclass\n",
    "class QAOutput(DataClass):\n",
    "    explanation: str = field(\n",
    "        metadata={\"desc\": \"A brief explanation of the concept in one sentence.\"}\n",
    "    )\n",
    "    example: str = field(metadata={\"desc\": \"An example of the concept in a sentence.\"})\n",
    "\n",
    "\n",
    "\n",
    "qa_template = r\"\"\"<SYS>\n",
    "Your are MedSathi a helpful pharmacist. Use the given context to get the knowledge of the medicine and provide the asked information about the medicine Using your own Knowledge.\n",
    "<OUTPUT_FORMAT>\n",
    "{{output_format_str}}\n",
    "</OUTPUT_FORMAT>\n",
    "</SYS>\n",
    "User: {{input_str}}\n",
    "You:\"\"\"\n",
    "\n",
    "class QA(Component):\n",
    "    def __init__(self):\n",
    "        super().__init__()\n",
    "\n",
    "        parser = JsonOutputParser(data_class=QAOutput, return_data_class=True)\n",
    "        self.generator = Generator(\n",
    "            model_client=GroqAPIClient(),\n",
    "            model_kwargs={\"model\": \"llama3-8b-8192\"},\n",
    "            template=qa_template,\n",
    "            prompt_kwargs={\"output_format_str\": parser.format_instructions()},\n",
    "            output_processors=parser,\n",
    "        )\n",
    "\n",
    "    def call(self, query: str):\n",
    "        return self.generator.call({\"input_str\": query})\n",
    "\n",
    "    async def acall(self, query: str):\n",
    "        return await self.generator.acall({\"input_str\": query})"
   ]
  },
  {
   "cell_type": "code",
   "execution_count": 17,
   "metadata": {},
   "outputs": [
    {
     "name": "stdout",
     "output_type": "stream",
     "text": [
      "GeneratorOutput(data=QAOutput(explanation='Benzoyl peroxide topical is used to treat acne, reducing the number and severity of pimples and blackheads, by killing bacteria that can cause infections and breaking down keratin, a protein that can cause clogs.', example='Dr. Jane prescribed 2.5% benzoyl peroxide cream to her patient, Emma, to treat her moderate acne, instructing her to apply it once or twice daily to specific areas of the face for four to eight weeks to see noticeable improvements.'), error=None, usage=None, raw_response='```\\n{\\n    \"explanation\": \"Benzoyl peroxide topical is used to treat acne, reducing the number and severity of pimples and blackheads, by killing bacteria that can cause infections and breaking down keratin, a protein that can cause clogs.\",\\n    \"example\": \"Dr. Jane prescribed 2.5% benzoyl peroxide cream to her patient, Emma, to treat her moderate acne, instructing her to apply it once or twice daily to specific areas of the face for four to eight weeks to see noticeable improvements.\"\\n}\\n```', metadata=None)\n"
     ]
    }
   ],
   "source": [
    "\n",
    "qa = QA()\n",
    "# print(qa)\n",
    "\n",
    "\n",
    "output = qa(\"Why we use Benzoyl Peroxide Topical\")# call\n",
    "print(output)"
   ]
  },
  {
   "cell_type": "code",
   "execution_count": 5,
   "metadata": {},
   "outputs": [
    {
     "name": "stdout",
     "output_type": "stream",
     "text": [
      "Collecting groq\n",
      "  Downloading groq-0.9.0-py3-none-any.whl (103 kB)\n",
      "\u001b[2K     \u001b[90m━━━━━━━━━━━━━━━━━━━━━━━━━━━━━━━━━━━━━━━\u001b[0m \u001b[32m103.5/103.5 KB\u001b[0m \u001b[31m3.0 MB/s\u001b[0m eta \u001b[36m0:00:00\u001b[0m\n",
      "\u001b[?25hRequirement already satisfied: distro<2,>=1.7.0 in /home/aman123lug/Desktop/gsocproject/medsathi/myvenv/lib/python3.10/site-packages (from groq) (1.9.0)\n",
      "Requirement already satisfied: httpx<1,>=0.23.0 in /home/aman123lug/Desktop/gsocproject/medsathi/myvenv/lib/python3.10/site-packages (from groq) (0.27.0)\n",
      "Requirement already satisfied: typing-extensions<5,>=4.7 in /home/aman123lug/Desktop/gsocproject/medsathi/myvenv/lib/python3.10/site-packages (from groq) (4.12.2)\n",
      "Requirement already satisfied: pydantic<3,>=1.9.0 in /home/aman123lug/Desktop/gsocproject/medsathi/myvenv/lib/python3.10/site-packages (from groq) (1.10.17)\n",
      "Requirement already satisfied: sniffio in /home/aman123lug/Desktop/gsocproject/medsathi/myvenv/lib/python3.10/site-packages (from groq) (1.3.1)\n",
      "Requirement already satisfied: anyio<5,>=3.5.0 in /home/aman123lug/Desktop/gsocproject/medsathi/myvenv/lib/python3.10/site-packages (from groq) (4.4.0)\n",
      "Requirement already satisfied: exceptiongroup>=1.0.2 in /home/aman123lug/Desktop/gsocproject/medsathi/myvenv/lib/python3.10/site-packages (from anyio<5,>=3.5.0->groq) (1.2.1)\n",
      "Requirement already satisfied: idna>=2.8 in /home/aman123lug/Desktop/gsocproject/medsathi/myvenv/lib/python3.10/site-packages (from anyio<5,>=3.5.0->groq) (3.7)\n",
      "Requirement already satisfied: httpcore==1.* in /home/aman123lug/Desktop/gsocproject/medsathi/myvenv/lib/python3.10/site-packages (from httpx<1,>=0.23.0->groq) (1.0.5)\n",
      "Requirement already satisfied: certifi in /home/aman123lug/Desktop/gsocproject/medsathi/myvenv/lib/python3.10/site-packages (from httpx<1,>=0.23.0->groq) (2024.6.2)\n",
      "Requirement already satisfied: h11<0.15,>=0.13 in /home/aman123lug/Desktop/gsocproject/medsathi/myvenv/lib/python3.10/site-packages (from httpcore==1.*->httpx<1,>=0.23.0->groq) (0.14.0)\n",
      "Installing collected packages: groq\n",
      "Successfully installed groq-0.9.0\n"
     ]
    }
   ],
   "source": []
  },
  {
   "cell_type": "code",
   "execution_count": 27,
   "metadata": {},
   "outputs": [
    {
     "name": "stdout",
     "output_type": "stream",
     "text": [
      "'Benzoyl peroxide topical is used to treat mild to moderate acne, reduce inflammation and kill bacteria that cause acne.', \n",
      "        example 'For example, it may be applied directly to the skin to help clear up pimples and reduce redness and inflammation in the affected area.'\n",
      "    ), \n",
      "    error\n"
     ]
    }
   ],
   "source": [
    "import json\n",
    "\n",
    "# The given GeneratorOutput string\n",
    "generator_output_str = \"\"\"\n",
    "GeneratorOutput(\n",
    "    data=QAOutput(\n",
    "        explanation='Benzoyl peroxide topical is used to treat mild to moderate acne, reduce inflammation and kill bacteria that cause acne.', \n",
    "        example='For example, it may be applied directly to the skin to help clear up pimples and reduce redness and inflammation in the affected area.'\n",
    "    ), \n",
    "    error=None, \n",
    "    usage=None, \n",
    "    raw_response='\n",
    "    {\n",
    "        \"explanation\": \"Benzoyl peroxide topical is used to treat mild to moderate acne, reduce inflammation and kill bacteria that cause acne.\",\n",
    "        \"example\": \"For example, it may be applied directly to the skin to help clear up pimples and reduce redness and inflammation in the affected area.\"\n",
    "    }\n",
    "    ', \n",
    "    metadata=None\n",
    ")\n",
    "\"\"\"\n",
    "\n",
    "# Extract the raw_response JSON string part\n",
    "output = generator_output_str.split(\"=\")\n",
    "print(output[2] + output[3])\n",
    "# len(output)\n"
   ]
  },
  {
   "cell_type": "code",
   "execution_count": null,
   "metadata": {},
   "outputs": [],
   "source": []
  }
 ],
 "metadata": {
  "kernelspec": {
   "display_name": "myvenv",
   "language": "python",
   "name": "python3"
  },
  "language_info": {
   "codemirror_mode": {
    "name": "ipython",
    "version": 3
   },
   "file_extension": ".py",
   "mimetype": "text/x-python",
   "name": "python",
   "nbconvert_exporter": "python",
   "pygments_lexer": "ipython3",
   "version": "3.10.12"
  }
 },
 "nbformat": 4,
 "nbformat_minor": 2
}
